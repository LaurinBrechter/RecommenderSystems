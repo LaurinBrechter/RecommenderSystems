{
 "cells": [
  {
   "cell_type": "code",
   "execution_count": null,
   "metadata": {},
   "outputs": [],
   "source": [
    "import tensorflow_recommenders as tfrs\n",
    "import tensorflow as tf\n",
    "import tensorflow_datasets as tfds\n",
    "import tensorflow_gnn as tfgnn\n",
    "import numpy as np"
   ]
  },
  {
   "cell_type": "code",
   "execution_count": null,
   "metadata": {},
   "outputs": [],
   "source": [
    "# Ratings data.\n",
    "ratings = tfds.load(\"movielens/100k-ratings\", split=\"train\")\n",
    "ratings = tfds.as_dataframe(ratings)\n",
    "ratings = ratings.astype({\"movie_id\":int, \"user_zip_code\":object, \"user_id\":int}).sort_values(\"user_id\")\n",
    "# Features of all the available movies.\n",
    "movies = tfds.load(\"movielens/100k-movies\", split=\"train\")\n",
    "users = ratings.drop_duplicates(\"user_id\").sort_values(\"user_id\")"
   ]
  },
  {
   "cell_type": "code",
   "execution_count": null,
   "metadata": {},
   "outputs": [],
   "source": [
    "movies_ = ratings.drop_duplicates(\"movie_id\").sort_values(\"movie_id\")[[\"movie_genres\", \"movie_id\", \"movie_title\"]]"
   ]
  },
  {
   "cell_type": "code",
   "execution_count": null,
   "metadata": {},
   "outputs": [],
   "source": [
    "graph = tfgnn.GraphTensor.from_pieces(\n",
    "    node_sets={\n",
    "        \"user\": tfgnn.NodeSet.from_fields(\n",
    "            sizes=[len(users)],\n",
    "            features={\n",
    "                \"age\":tf.convert_to_tensor(users[\"raw_user_age\"].values),\n",
    "                \"occupation\":tf.convert_to_tensor(users[\"user_occupation_label\"].values),\n",
    "                \"gender\":tf.convert_to_tensor(users[\"user_gender\"].values),\n",
    "                \"user_id\": tf.convert_to_tensor(users[\"user_id\"].values)\n",
    "            }\n",
    "        ),\n",
    "\n",
    "        \"items\": tfgnn.NodeSet.from_fields(\n",
    "            sizes=[len(movies_)],\n",
    "            features={\n",
    "                \"movie_genres\":tf.ragged.constant(movies_[\"movie_genres\"].values),\n",
    "                \"movie_id\":tf.convert_to_tensor(movies_[\"movie_id\"].values),\n",
    "            }\n",
    "        )\n",
    "    },\n",
    "\n",
    "    edge_sets={\n",
    "        \"rating\": tfgnn.EdgeSet.from_fields(\n",
    "            sizes=[100_000],\n",
    "            adjacency=tfgnn.Adjacency.from_indices(\n",
    "                source=(\"user\", tf.convert_to_tensor(ratings[\"movie_id\"])),\n",
    "                target=(\"items\", tf.convert_to_tensor(ratings[\"user_id\"]))\n",
    "            ),\n",
    "\n",
    "            features={\n",
    "                \"rating\": tf.convert_to_tensor(ratings[\"user_rating\"]),\n",
    "                \"timestamp\": tf.convert_to_tensor(ratings[\"timestamp\"])\n",
    "            }\n",
    "        )\n",
    "    }\n",
    ")"
   ]
  }
 ],
 "metadata": {
  "kernelspec": {
   "display_name": "Python 3.10.4 64-bit",
   "language": "python",
   "name": "python3"
  },
  "language_info": {
   "name": "python",
   "version": "3.10.4"
  },
  "orig_nbformat": 4,
  "vscode": {
   "interpreter": {
    "hash": "8c3d4d9970fc5c09c50d9318a9c7fbf4d0159e4b28833276f5678ee22bded273"
   }
  }
 },
 "nbformat": 4,
 "nbformat_minor": 2
}
