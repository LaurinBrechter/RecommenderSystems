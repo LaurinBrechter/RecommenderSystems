{
 "cells": [
  {
   "cell_type": "code",
   "execution_count": null,
   "metadata": {},
   "outputs": [],
   "source": [
    "import tensorflow as tf\n",
    "import pandas as pd\n",
    "import numpy as np\n",
    "from tensorflow.keras import layers\n",
    "import pymc as pm"
   ]
  },
  {
   "cell_type": "code",
   "execution_count": 2,
   "metadata": {},
   "outputs": [],
   "source": [
    "df = pd.read_csv(\"C:\\\\Code\\\\Data\\\\MovieRecommenderSystem\\\\ratings.csv\")\n",
    "R = df.pivot(index=\"userId\", columns=\"movieId\", values=\"rating\").fillna(0).values[:,:900] # N x M matrix\n",
    "\n",
    "n = R.shape[0] # number of users\n",
    "m = R.shape[1] # number of items\n",
    "d = 10 # dimensionality of the latent vector \n",
    "\n",
    "U = np.random.normal(0,1,size=(n,d)) # user matrix\n",
    "V = np.random.normal(0,1,size=(m,d)) # item matrix\n",
    "\n",
    "I = np.where(R == 0,0,1) # Indicator Matrix -> 0 if R_ij is missing, 1 otherwiese.\n",
    "I_mask = R == 0"
   ]
  },
  {
   "cell_type": "code",
   "execution_count": 2,
   "metadata": {},
   "outputs": [
    {
     "ename": "NameError",
     "evalue": "name 'R' is not defined",
     "output_type": "error",
     "traceback": [
      "\u001b[1;31m---------------------------------------------------------------------------\u001b[0m",
      "\u001b[1;31mNameError\u001b[0m                                 Traceback (most recent call last)",
      "\u001b[1;32mc:\\Code\\RecommenderSystems\\Probabilistic Matrix Factorization.ipynb Zelle 3\u001b[0m in \u001b[0;36m<cell line: 1>\u001b[1;34m()\u001b[0m\n\u001b[1;32m----> <a href='vscode-notebook-cell:/c%3A/Code/RecommenderSystems/Probabilistic%20Matrix%20Factorization.ipynb#X20sZmlsZQ%3D%3D?line=0'>1</a>\u001b[0m R\u001b[39m.\u001b[39mshape\n",
      "\u001b[1;31mNameError\u001b[0m: name 'R' is not defined"
     ]
    }
   ],
   "source": [
    "R.shape"
   ]
  },
  {
   "cell_type": "markdown",
   "metadata": {},
   "source": [
    "## Baselines"
   ]
  },
  {
   "cell_type": "code",
   "execution_count": 3,
   "metadata": {},
   "outputs": [],
   "source": [
    "def abs_error(pred):\n",
    "    return np.sum(np.abs(pred * I - R))/np.sum(I)"
   ]
  },
  {
   "cell_type": "code",
   "execution_count": 4,
   "metadata": {},
   "outputs": [
    {
     "data": {
      "text/plain": [
       "1.4797889642587965"
      ]
     },
     "execution_count": 4,
     "metadata": {},
     "output_type": "execute_result"
    }
   ],
   "source": [
    "# Uniform baseline, just predict a random rating between 1 and 5 for every pair of item/user\n",
    "R_uniform = np.random.randint(1,6, size=(n,m))\n",
    "abs_error(R_uniform)"
   ]
  },
  {
   "cell_type": "code",
   "execution_count": 5,
   "metadata": {},
   "outputs": [
    {
     "data": {
      "text/plain": [
       "0.8271026565093422"
      ]
     },
     "execution_count": 5,
     "metadata": {},
     "output_type": "execute_result"
    }
   ],
   "source": [
    "# always predict the global mean\n",
    "R_global_mean = np.ones((n,m)) * np.mean(R, where=R!=0)\n",
    "abs_error(R_global_mean)"
   ]
  },
  {
   "cell_type": "code",
   "execution_count": 6,
   "metadata": {},
   "outputs": [
    {
     "data": {
      "text/plain": [
       "0.705679751309807"
      ]
     },
     "execution_count": 6,
     "metadata": {},
     "output_type": "execute_result"
    }
   ],
   "source": [
    "# taking the average of the usermean, the moviemean and the global mean.\n",
    "\n",
    "movie_mean = R.mean(axis=0, where=R!=0)[np.newaxis, :]\n",
    "movie_mean[np.isnan(movie_mean)] = 0\n",
    "\n",
    "\n",
    "user_mean = R.mean(axis=1, where=R!=0)[:, np.newaxis]\n",
    "user_mean[np.isnan(user_mean)] = 0\n",
    "R_means_of_means = 1/3 * (R_global_mean + movie_mean + user_mean)\n",
    "abs_error(R_means_of_means)\n"
   ]
  },
  {
   "cell_type": "markdown",
   "metadata": {},
   "source": [
    "## PMF\n",
    "\n",
    "We will model the ratings as draws from a gaussian dristribution, where we have a different distribution $R_{ij}$ for each user item combination. The mean of the distribution is $U_iV_j^{T}$"
   ]
  },
  {
   "cell_type": "code",
   "execution_count": null,
   "metadata": {},
   "outputs": [],
   "source": [
    "n_rated = (~I_mask).sum() # number of movies that have been rated\n",
    "n_not_rated = I_mask.sum() # number of movies that have not been rated\n",
    "\n",
    "R_mean_imputed = R\n",
    "R_mean_imputed[I_mask] = R[~I_mask].mean()"
   ]
  },
  {
   "cell_type": "code",
   "execution_count": null,
   "metadata": {},
   "outputs": [],
   "source": [
    "alpha_u = 1 / R.var(axis=1).mean()\n",
    "alpha_v = 1/ R.var(axis=0).mean()"
   ]
  },
  {
   "cell_type": "code",
   "execution_count": null,
   "metadata": {},
   "outputs": [],
   "source": [
    "coords={\n",
    "        \"users\":np.arange(n),\n",
    "        \"movies\":np.arange(m),\n",
    "        \"latent\":np.arange(d),\n",
    "        \"obs_id\":np.arange(n_rated)\n",
    "        }"
   ]
  },
  {
   "cell_type": "code",
   "execution_count": null,
   "metadata": {},
   "outputs": [],
   "source": [
    "with pm.Model(coords=coords) as pmf:\n",
    "    U = pm.MvNormal(\n",
    "                \"U\",\n",
    "                mu=0,\n",
    "                tau= alpha_u * np.eye(d),\n",
    "                dims=(\"users\", \"latent\")\n",
    "    )\n",
    "\n",
    "    V = pm.MvNormal(\n",
    "                \"V\",\n",
    "                mu=0,\n",
    "                tau=alpha_v * np.eye(d),\n",
    "                dims=(\"movies\", \"latent\")\n",
    "    )\n",
    "\n",
    "    R_ = pm.Normal(\n",
    "                \"R\",\n",
    "                mu=(U @ V.T)[~I_mask],\n",
    "                tau=2,\n",
    "                dims=\"obs_id\",\n",
    "                observed=R[~I_mask],\n",
    "            )\n",
    "\n",
    "    trace = pm.sample(draws=100)"
   ]
  }
 ],
 "metadata": {
  "kernelspec": {
   "display_name": "Python 3.10.4 64-bit",
   "language": "python",
   "name": "python3"
  },
  "language_info": {
   "codemirror_mode": {
    "name": "ipython",
    "version": 3
   },
   "file_extension": ".py",
   "mimetype": "text/x-python",
   "name": "python",
   "nbconvert_exporter": "python",
   "pygments_lexer": "ipython3",
   "version": "3.10.4"
  },
  "orig_nbformat": 4,
  "vscode": {
   "interpreter": {
    "hash": "8c3d4d9970fc5c09c50d9318a9c7fbf4d0159e4b28833276f5678ee22bded273"
   }
  }
 },
 "nbformat": 4,
 "nbformat_minor": 2
}
